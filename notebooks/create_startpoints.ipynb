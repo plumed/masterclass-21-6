{
 "cells": [
  {
   "cell_type": "code",
   "execution_count": 1,
   "id": "herbal-certificate",
   "metadata": {},
   "outputs": [],
   "source": [
    "import matplotlib.pyplot as plt\n",
    "import numpy as np\n",
    "from ase import io\n",
    "import shutil\n",
    "import plumed\n",
    "import os"
   ]
  },
  {
   "cell_type": "markdown",
   "id": "funky-hobby",
   "metadata": {},
   "source": [
    "# Creating startpoints\n",
    "\n",
    "This PLUMED notebook shows how I generated a series of startpoints for the isocommittor simulations that you use in the exercise on path collective variables.   I did this by running a short gromacs simulation in which the system was forced to stay close to the center of the range of possible values for $\\psi.$\n",
    "\n",
    "## Some initial experiments with PLUMED\n",
    "\n",
    "I had the initial configuration of PLUMED that is given in the following gro file.  As you can see from the PLUMED calclation below this configuration is close to the transition state. "
   ]
  },
  {
   "cell_type": "code",
   "execution_count": 2,
   "id": "large-usage",
   "metadata": {},
   "outputs": [],
   "source": [
    "grofile='''ALANINE DIPEPTIDE\n",
    "   22\n",
    "    1ALAD    CL    1  -0.807   0.271   0.200 -0.0809 -0.4214 -0.6604\n",
    "    1ALAD   HL1    2  -0.783   0.337   0.114  1.5179  1.4736  1.1166\n",
    "    1ALAD   HL2    3  -0.768   0.169   0.177  1.1467  0.1532 -1.2237\n",
    "    1ALAD   HL3    4  -0.917   0.254   0.204 -0.4669  1.9955  1.0426\n",
    "    1ALAD   CLP    5  -0.760   0.330   0.321 -0.1548  0.1214 -0.6060\n",
    "    1ALAD    OL    6  -0.653   0.298   0.372  0.3778 -0.0659  0.5648\n",
    "    1ALAD    NL    7  -0.842   0.425   0.380 -0.0921  0.3235  0.0565\n",
    "    1ALAD    HL    8  -0.931   0.442   0.339 -0.7429  0.2116  1.3716\n",
    "    1ALAD    CA    9  -0.816   0.508   0.496 -0.4318 -0.3565  0.2818\n",
    "    1ALAD    HA   10  -0.804   0.607   0.453 -0.8483 -0.0098  0.9549\n",
    "    1ALAD    CB   11  -0.944   0.535   0.577  0.1563 -0.2172  0.3083\n",
    "    1ALAD   HB1   12  -0.924   0.609   0.658  1.8041 -0.9057  0.5868\n",
    "    1ALAD   HB2   13  -1.028   0.572   0.515 -0.3299 -1.9452 -0.1084\n",
    "    1ALAD   HB3   14  -0.974   0.443   0.632  2.0042 -0.5496  0.8587\n",
    "    1ALAD   CRP   15  -0.700   0.493   0.591  0.7662  0.4496 -0.2435\n",
    "    1ALAD    OR   16  -0.618   0.583   0.618  0.1238 -0.2178 -0.5837\n",
    "    1ALAD    NR   17  -0.688   0.376   0.652 -0.8670  0.2125  0.2422\n",
    "    1ALAD    HR   18  -0.751   0.303   0.626 -2.1243  0.9671  1.0091\n",
    "    1ALAD    CR   19  -0.586   0.353   0.750 -0.0690  0.0127 -0.1022\n",
    "    1ALAD   HR1   20  -0.505   0.428   0.748  1.3345 -1.1470  4.0201\n",
    "    1ALAD   HR2   21  -0.620   0.356   0.856 -0.7803  1.2050 -0.3380\n",
    "    1ALAD   HR3   22  -0.539   0.255   0.731  0.6349  0.5075 -0.9622\n",
    "   3.71000   3.71000   3.71000'''"
   ]
  },
  {
   "cell_type": "markdown",
   "id": "absolute-fiction",
   "metadata": {},
   "source": [
    "Read above input into NumPy arrays:"
   ]
  },
  {
   "cell_type": "code",
   "execution_count": 3,
   "id": "encouraging-publisher",
   "metadata": {},
   "outputs": [],
   "source": [
    "myfile = grofile.split()\n",
    "natoms = int(myfile[2])\n",
    "pos = np.zeros([natoms,3], dtype=np.float64)\n",
    "for i in range(natoms) :\n",
    "    pos[i,0] = myfile[2 + i*9 + 4]\n",
    "    pos[i,1] = myfile[2 + i*9 + 5]\n",
    "    pos[i,2] = myfile[2 + i*9 + 6]\n",
    "\n",
    "box = np.array([[myfile[-3],0,0],[0,myfile[-2],0],[0,0,myfile[-1]]], dtype=np.float64 )"
   ]
  },
  {
   "cell_type": "markdown",
   "id": "polished-malaysia",
   "metadata": {},
   "source": [
    "Lets quickly calculate the value of $\\psi\\$ for the configuration above using PLUMED:"
   ]
  },
  {
   "cell_type": "code",
   "execution_count": 4,
   "id": "formal-scale",
   "metadata": {},
   "outputs": [
    {
     "name": "stdout",
     "output_type": "stream",
     "text": [
      "VALUE OF PHI -0.17678176036892257\n"
     ]
    }
   ],
   "source": [
    "p = plumed.Plumed()\n",
    "p.cmd(\"setMDEngine\",\"python\")\n",
    "# Read PDB so units are 0.1 nm\n",
    "p.cmd(\"setTimestep\", 1.)\n",
    "p.cmd(\"setKbT\", 1.)\n",
    "p.cmd(\"setNatoms\",natoms)\n",
    "p.cmd(\"setLogFile\",\"test.log\")\n",
    "p.cmd(\"init\")\n",
    "# Read in the PATH coordinate and create the shared memory\n",
    "p.cmd(\"readInputLine\", \"phi: TORSION ATOMS=5,7,9,15\")\n",
    "shape = np.zeros( 1, dtype=np.int_ )\n",
    "p.cmd(\"getDataRank phi\", shape )\n",
    "phi = np.zeros((1))\n",
    "p.cmd(\"setMemoryForData phi\", phi )\n",
    "# Now do the calculation with PLUMED\n",
    "p.cmd(\"setStep\",1)\n",
    "p.cmd(\"setBox\",box )\n",
    "masses = np.zeros(natoms,dtype=np.float64)\n",
    "p.cmd(\"setMasses\", masses )\n",
    "charges = np.zeros(natoms,dtype=np.float64)\n",
    "p.cmd(\"setCharges\", charges ) \n",
    "p.cmd(\"setPositions\", pos )\n",
    "forces = np.zeros([natoms,3])\n",
    "p.cmd(\"setForces\", forces )\n",
    "virial = np.zeros((3,3),dtype=np.float64)\n",
    "p.cmd(\"setVirial\", virial )\n",
    "p.cmd(\"calc\")\n",
    "\n",
    "print(\"VALUE OF PHI\", phi[0] )"
   ]
  },
  {
   "cell_type": "markdown",
   "id": "quick-husband",
   "metadata": {},
   "source": [
    "## Running the gromacs simulation\n",
    "\n",
    "Below I have an input for PLUMED that puts a restraint so that we stay close to the transition state that is roughly at $\\psi=0$."
   ]
  },
  {
   "cell_type": "code",
   "execution_count": 9,
   "id": "radical-moral",
   "metadata": {},
   "outputs": [],
   "source": [
    "plumedinpt = '''phi: TORSION ATOMS=5,7,9,15\n",
    "RESTRAINT ARG=phi AT=0 KAPPA=100\n",
    "PRINT ARG=phi FILE=colvar STRIDE=5000'''"
   ]
  },
  {
   "cell_type": "markdown",
   "id": "designed-reducing",
   "metadata": {},
   "source": [
    "Now we create some input for gromacs:"
   ]
  },
  {
   "cell_type": "code",
   "execution_count": 10,
   "id": "constitutional-cleaner",
   "metadata": {},
   "outputs": [],
   "source": [
    "!rm -rf ../Trajectories/Create_midpoints\n",
    "!mkdir ../Trajectories/Create_midpoints\n",
    "# Copy the topology to the appropriate directory\n",
    "shutil.copyfile(\"../data/topol.top\",\"../Trajectories/Create_midpoints/topol.top\")\n",
    "# Setup the mdp file\n",
    "mdp = open(\"../data/md.mdp\",\"r\")\n",
    "contents = mdp.read()\n",
    "mdp.close()\n",
    "new_content = contents.replace(\"SEED\", str(np.random.randint(0,1000000))).replace(\"NSTEPS\",\"500000\").replace(\"TEMP\",\"300\")\n",
    "mdpout = open(\"../Trajectories/Create_midpoints/md.mdp\", \"w\")\n",
    "mdpout.write(new_content)\n",
    "mdpout.close()\n",
    "# Write out the configurtion\n",
    "cout = open(\"../Trajectories/Create_midpoints/conf.gro\", \"w\")\n",
    "cout.write(grofile)\n",
    "cout.close()\n",
    "# And write the plumed input\n",
    "pout = open(\"../Trajectories/Create_midpoints/plumed.dat\", \"w\")\n",
    "pout.write( plumedinpt )\n",
    "pout.close()"
   ]
  },
  {
   "cell_type": "markdown",
   "id": "inner-discovery",
   "metadata": {},
   "source": [
    "We can now run gromacs"
   ]
  },
  {
   "cell_type": "code",
   "execution_count": 11,
   "id": "moved-butter",
   "metadata": {},
   "outputs": [],
   "source": [
    "!cd ../Trajectories/Create_midpoints/ && gmx grompp -f md.mdp -c conf.gro -p topol.top &> /dev/null \n",
    "!cd ../Trajectories/Create_midpoints/ && gmx mdrun --plumed plumed.dat &> /dev/null"
   ]
  },
  {
   "cell_type": "markdown",
   "id": "indonesian-connectivity",
   "metadata": {},
   "source": [
    "Lets now look at the values of $\\psi$ that have been explored to see if they are all close to the transition state."
   ]
  },
  {
   "cell_type": "code",
   "execution_count": 12,
   "id": "hourly-holder",
   "metadata": {},
   "outputs": [
    {
     "data": {
      "image/png": "[encoded data removed]",
      "text/plain": [
       "<Figure size 432x288 with 1 Axes>"
      ]
     },
     "metadata": {
      "needs_background": "light"
     },
     "output_type": "display_data"
    }
   ],
   "source": [
    "data = np.loadtxt('../Trajectories/Create_midpoints/colvar')\n",
    "plt.plot( data[:,0], data[:,1], 'ko' )\n",
    "plt.xlabel('Time')\n",
    "plt.ylabel(r'$\\phi$ / radians')\n",
    "plt.show()"
   ]
  },
  {
   "cell_type": "markdown",
   "id": "union-armor",
   "metadata": {},
   "source": [
    "To create the startpoints.pdb file I loaded the  traj.trr file output from the calculation above into vmd and saved it as a pdb."
   ]
  },
  {
   "cell_type": "code",
   "execution_count": null,
   "id": "competent-bernard",
   "metadata": {},
   "outputs": [],
   "source": []
  }
 ],
 "metadata": {
  "kernelspec": {
   "display_name": "Python 3",
   "language": "python",
   "name": "python3"
  },
  "language_info": {
   "codemirror_mode": {
    "name": "ipython",
    "version": 3
   },
   "file_extension": ".py",
   "mimetype": "text/x-python",
   "name": "python",
   "nbconvert_exporter": "python",
   "pygments_lexer": "ipython3",
   "version": "3.7.10"
  }
 },
 "nbformat": 4,
 "nbformat_minor": 5
}
