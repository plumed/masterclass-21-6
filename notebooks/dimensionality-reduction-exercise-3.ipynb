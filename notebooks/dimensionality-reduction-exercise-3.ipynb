{
 "cells": [
  {
   "cell_type": "code",
   "execution_count": 1,
   "id": "exterior-physiology",
   "metadata": {},
   "outputs": [],
   "source": [
    "import matplotlib.pyplot as plt\n",
    "import numpy as np \n",
    "import ase\n",
    "import ase.io\n",
    "from ase.data import atomic_masses\n",
    "from chemiscope import write_input"
   ]
  },
  {
   "cell_type": "markdown",
   "id": "specialized-canberra",
   "metadata": {},
   "source": [
    "# Dimensionality reduction exercises\n",
    "\n",
    "The first exercise asks us to collect the data from the trajectory.  The filled in PLUMED input for this exercise is as follows:"
   ]
  },
  {
   "cell_type": "code",
   "execution_count": 2,
   "id": "irish-scene",
   "metadata": {},
   "outputs": [],
   "source": [
    "pcollect='''MOLINFO STRUCTURE=../../data/bhp.pdb MOLTYPE=protein\n",
    "            cc: COLLECT_FRAMES ATOMS=@nonhydrogens\n",
    "            OUTPUT_ANALYSIS_DATA_TO_PDB USE_OUTPUT_DATA_FROM=cc FILE=traj.pdb'''"
   ]
  },
  {
   "cell_type": "markdown",
   "id": "stock-symposium",
   "metadata": {},
   "source": [
    "We are going to revert to running commands using bash commands in the notebook here.  In other words, we will stop using the python interface and will work with PLUMED driver directly.  "
   ]
  },
  {
   "cell_type": "code",
   "execution_count": 3,
   "id": "collective-matthew",
   "metadata": {},
   "outputs": [],
   "source": [
    "!mkdir ../Dimensionality_reduction_exercises\n",
    "!mkdir ../Dimensionality_reduction_exercises/Exercise_1\n",
    "# Output the file above to the input\n",
    "f = open(\"../Dimensionality_reduction_exercises/Exercise_1/plumed.dat\", \"w\")\n",
    "f.write( pcollect )\n",
    "f.close()\n",
    "# Run PLUMED\n",
    "!cd ../Dimensionality_reduction_exercises/Exercise_1 && plumed driver --mf_pdb ../../data/traj.pdb > /dev/null"
   ]
  },
  {
   "cell_type": "markdown",
   "id": "spatial-fruit",
   "metadata": {},
   "source": [
    "## PCA\n",
    "\n",
    "The input to do the PCA calculation with PLUMED is as follows:"
   ]
  },
  {
   "cell_type": "code",
   "execution_count": 4,
   "id": "severe-pizza",
   "metadata": {},
   "outputs": [],
   "source": [
    "ppca = '''MOLINFO STRUCTURE=../../data/bhp.pdb MOLTYPE=protein\n",
    "          cc: COLLECT_FRAMES ATOMS=@nonhydrogens\n",
    "          pca: PCA USE_OUTPUT_DATA_FROM=cc METRIC=OPTIMAL NLOW_DIM=2\n",
    "          dat: PROJECT_ALL_ANALYSIS_DATA USE_OUTPUT_DATA_FROM=cc PROJECTION=pca\n",
    "          OUTPUT_ANALYSIS_DATA_TO_COLVAR USE_OUTPUT_DATA_FROM=dat ARG=dat.* FILE=pca_data\n",
    "          alpha: ALPHARMSD RESIDUES=all\n",
    "          abeta: ANTIBETARMSD RESIDUES=all STRANDS_CUTOFF=1.0\n",
    "          pbeta: PARABETARMSD RESIDUES=all STRANDS_CUTOFF=1.0\n",
    "          cc2: COLLECT_FRAMES ARG=alpha,abeta,pbeta\n",
    "          OUTPUT_ANALYSIS_DATA_TO_COLVAR USE_OUTPUT_DATA_FROM=cc2 ARG=cc2.* FILE=secondary_structure_data'''"
   ]
  },
  {
   "cell_type": "markdown",
   "id": "mighty-business",
   "metadata": {},
   "source": [
    "We now run this calculation using PLUMED"
   ]
  },
  {
   "cell_type": "code",
   "execution_count": 5,
   "id": "sophisticated-treasurer",
   "metadata": {},
   "outputs": [],
   "source": [
    "!mkdir ../Dimensionality_reduction_exercises/Exercise_2\n",
    "# Output the file above to the input\n",
    "f = open(\"../Dimensionality_reduction_exercises/Exercise_2/plumed.dat\", \"w\")\n",
    "f.write( ppca )\n",
    "f.close()\n",
    "# Run PLUMED\n",
    "!cd ../Dimensionality_reduction_exercises/Exercise_2 && plumed driver --mf_pdb ../../data/traj.pdb > /dev/null"
   ]
  },
  {
   "cell_type": "markdown",
   "id": "interpreted-beverage",
   "metadata": {},
   "source": [
    "We can now read in the projection that this command outputted so that it can be plotted within this notebook as shown below:"
   ]
  },
  {
   "cell_type": "code",
   "execution_count": 6,
   "id": "collectible-andorra",
   "metadata": {},
   "outputs": [
    {
     "data": {
      "image/png": "[encoded data removed]",
      "text/plain": [
       "<Figure size 432x288 with 1 Axes>"
      ]
     },
     "metadata": {
      "needs_background": "light"
     },
     "output_type": "display_data"
    }
   ],
   "source": [
    "projection = np.loadtxt(\"../Dimensionality_reduction_exercises/Exercise_2/pca_data\")\n",
    "plt.plot( projection[:,0], projection[:,1], 'ko')\n",
    "plt.xlabel(\"PCA coordinate 1\")\n",
    "plt.ylabel(\"PCA coordinate 2\")\n",
    "plt.show()\n",
    "\n"
   ]
  },
  {
   "cell_type": "markdown",
   "id": "incredible-agenda",
   "metadata": {},
   "source": [
    "It is better, however, to output an input for chemiscope in order to visualise the data.  This is what we do using the code below:"
   ]
  },
  {
   "cell_type": "code",
   "execution_count": 7,
   "id": "immune-woman",
   "metadata": {},
   "outputs": [],
   "source": [
    "# Read in the trajectory using ase\n",
    "traj = ase.io.read('../data/traj.pdb',':')\n",
    "# Read in the projection \n",
    "projection = np.loadtxt(\"../Dimensionality_reduction_exercises/Exercise_2/pca_data\")\n",
    "# Read in secondary structure data\n",
    "structure = np.loadtxt(\"../Dimensionality_reduction_exercises/Exercise_2/secondary_structure_data\")\n",
    "\n",
    "# This ensures that the atomic masses are used in place of the symbols\n",
    "# when constructing the chemiscope respresentations of the atomic configurations.\n",
    "# Using the symbols will not work because ase is written by chemists and not \n",
    "# biologists.  For a chemist HG1 is mercury as opposed to the first hydrogen\n",
    "# on a guanine residue.  \n",
    "for frame in traj:\n",
    "    frame.numbers = np.array(\n",
    "        [\n",
    "            np.argmin(np.subtract(atomic_masses, float(am)) ** 2)\n",
    "            for am in frame.arrays[\"occupancy\"]\n",
    "        ]\n",
    "    )\n",
    "\n",
    "# This constructs the dicitionary of properties for chemiscope\n",
    "properties = {\n",
    "    \"pca1\": {\n",
    "        \"target\": \"structure\",\n",
    "        \"values\": projection[:,0],\n",
    "        \"description\": \"First principle component\",\n",
    "    },\n",
    "    \"pca2\": {\n",
    "        \"target\": \"structure\",\n",
    "        \"values\": projection[:,1],\n",
    "        \"description\": \"Second principle component\",\n",
    "    },\n",
    "    \"alpha\": {\n",
    "        \"target\": \"structure\",\n",
    "        \"values\": structure[:,0],\n",
    "        \"description\": \"Alpha helical content\",\n",
    "    },\n",
    "    \"antibeta\": {\n",
    "        \"target\": \"structure\",\n",
    "        \"values\": structure[:,1],\n",
    "        \"description\": \"Anti parallel beta sheet content\",\n",
    "    },\n",
    "    \"parabeta\": {\n",
    "        \"target\": \"structure\",\n",
    "        \"values\": structure[:,2],\n",
    "        \"description\": \"Parallel beta sheet content\",\n",
    "    },\n",
    "}\n",
    "\n",
    "# This generates our chemiscope output\n",
    "write_input(\"pca_chemiscope.json.gz\", frames=traj[1:], properties=properties )"
   ]
  },
  {
   "cell_type": "markdown",
   "id": "structural-familiar",
   "metadata": {},
   "source": [
    "## MDS\n",
    "\n",
    "The input to do the MDS calculation with PLUMED is as follow"
   ]
  },
  {
   "cell_type": "code",
   "execution_count": 8,
   "id": "rental-greece",
   "metadata": {},
   "outputs": [],
   "source": [
    "pmds = '''MOLINFO STRUCTURE=../../data/bhp.pdb MOLTYPE=protein\n",
    "          cc: COLLECT_FRAMES ATOMS=@nonhydrogens\n",
    "          r2-phi: TORSION ATOMS=@phi-2\n",
    "          r2-psi: TORSION ATOMS=@psi-2\n",
    "          r3-phi: TORSION ATOMS=@phi-3\n",
    "          r3-psi: TORSION ATOMS=@psi-3\n",
    "          r4-phi: TORSION ATOMS=@phi-4\n",
    "          r4-psi: TORSION ATOMS=@psi-4\n",
    "          r5-phi: TORSION ATOMS=@phi-5\n",
    "          r5-psi: TORSION ATOMS=@psi-5\n",
    "          r6-phi: TORSION ATOMS=@phi-6\n",
    "          r6-psi: TORSION ATOMS=@psi-6\n",
    "          r7-phi: TORSION ATOMS=@phi-7\n",
    "          r7-psi: TORSION ATOMS=@psi-7\n",
    "          r8-phi: TORSION ATOMS=@phi-8\n",
    "          r8-psi: TORSION ATOMS=@psi-8\n",
    "          r9-phi: TORSION ATOMS=@phi-9\n",
    "          r9-psi: TORSION ATOMS=@psi-9\n",
    "          r10-phi: TORSION ATOMS=@phi-10\n",
    "          r10-psi: TORSION ATOMS=@psi-10\n",
    "          r11-phi: TORSION ATOMS=@phi-11\n",
    "          r11-psi: TORSION ATOMS=@psi-11\n",
    "          r12-phi: TORSION ATOMS=@phi-12\n",
    "          r12-psi: TORSION ATOMS=@psi-12\n",
    "          r13-phi: TORSION ATOMS=@phi-13\n",
    "          r13-psi: TORSION ATOMS=@psi-13\n",
    "          r14-phi: TORSION ATOMS=@phi-14\n",
    "          r14-psi: TORSION ATOMS=@psi-14\n",
    "          r15-phi: TORSION ATOMS=@phi-15\n",
    "          r15-psi: TORSION ATOMS=@psi-15\n",
    "          r16-phi: TORSION ATOMS=@phi-16\n",
    "          r16-psi: TORSION ATOMS=@psi-16\n",
    "          angles: COLLECT_FRAMES ARG=r2-phi,r2-psi,r3-phi,r3-psi,r4-phi,r4-psi,r5-phi,r5-psi,r6-phi,r6-psi,r7-phi,r7-psi,r8-phi,r8-psi,r9-phi,r9-psi,r10-phi,r10-psi,r11-phi,r11-psi,r12-phi,r12-psi,r13-phi,r13-psi,r14-phi,r14-psi,r15-phi,r15-psi,r16-phi,r16-psi\n",
    "          distmat: EUCLIDEAN_DISSIMILARITIES USE_OUTPUT_DATA_FROM=angles METRIC=EUCLIDEAN\n",
    "          fps: LANDMARK_SELECT_FPS USE_OUTPUT_DATA_FROM=distmat NLANDMARKS=500\n",
    "          mds: CLASSICAL_MDS USE_OUTPUT_DATA_FROM=fps NLOW_DIM=2\n",
    "          osample: PROJECT_ALL_ANALYSIS_DATA USE_OUTPUT_DATA_FROM=distmat PROJECTION=mds\n",
    "          OUTPUT_ANALYSIS_DATA_TO_COLVAR USE_OUTPUT_DATA_FROM=osample ARG=osample.* FILE=mds_data\n",
    "          alpha: ALPHARMSD RESIDUES=all\n",
    "          abeta: ANTIBETARMSD RESIDUES=all STRANDS_CUTOFF=1.0\n",
    "          pbeta: PARABETARMSD RESIDUES=all STRANDS_CUTOFF=1.0\n",
    "          cc2: COLLECT_FRAMES ARG=alpha,abeta,pbeta\n",
    "          OUTPUT_ANALYSIS_DATA_TO_COLVAR USE_OUTPUT_DATA_FROM=cc2 ARG=cc2.* FILE=secondary_structure_data'''"
   ]
  },
  {
   "cell_type": "markdown",
   "id": "inside-nigeria",
   "metadata": {},
   "source": [
    "We now run this calculation using PLUMED"
   ]
  },
  {
   "cell_type": "code",
   "execution_count": 10,
   "id": "mineral-slave",
   "metadata": {},
   "outputs": [
    {
     "name": "stdout",
     "output_type": "stream",
     "text": [
      "mkdir: ../Dimensionality_reduction_exercises/Exercise_3: File exists\r\n"
     ]
    }
   ],
   "source": [
    "!mkdir ../Dimensionality_reduction_exercises/Exercise_3\n",
    "# Output the file above to the input\n",
    "f = open(\"../Dimensionality_reduction_exercises/Exercise_3/plumed.dat\", \"w\")\n",
    "f.write( pmds )\n",
    "f.close()\n",
    "# Run PLUMED\n",
    "!cd ../Dimensionality_reduction_exercises/Exercise_3 && plumed driver --mf_pdb ../../data/traj.pdb > /dev/null"
   ]
  },
  {
   "cell_type": "markdown",
   "id": "likely-oriental",
   "metadata": {},
   "source": [
    "Quick plot to check PLUMED has run correctly"
   ]
  },
  {
   "cell_type": "code",
   "execution_count": 11,
   "id": "respected-housing",
   "metadata": {},
   "outputs": [
    {
     "data": {
      "image/png": "[encoded data removed]",
      "text/plain": [
       "<Figure size 432x288 with 1 Axes>"
      ]
     },
     "metadata": {
      "needs_background": "light"
     },
     "output_type": "display_data"
    }
   ],
   "source": [
    "projection = np.loadtxt(\"../Dimensionality_reduction_exercises/Exercise_3/mds_data\")\n",
    "plt.plot( projection[:,0], projection[:,1], 'ko')\n",
    "plt.xlabel(\"MDS coordinate 1\")\n",
    "plt.ylabel(\"MDS coordinate 2\")\n",
    "plt.show()"
   ]
  },
  {
   "cell_type": "markdown",
   "id": "funded-forge",
   "metadata": {},
   "source": [
    "And generate the chemiscope"
   ]
  },
  {
   "cell_type": "code",
   "execution_count": 12,
   "id": "comic-occasion",
   "metadata": {},
   "outputs": [],
   "source": [
    "# Read in the trajectory using ase\n",
    "traj = ase.io.read('../data/traj.pdb',':')\n",
    "# Read in the projection \n",
    "projection = np.loadtxt(\"../Dimensionality_reduction_exercises/Exercise_3/mds_data\")\n",
    "# Read in secondary structure data\n",
    "structure = np.loadtxt(\"../Dimensionality_reduction_exercises/Exercise_3/secondary_structure_data\")\n",
    "\n",
    "# This ensures that the atomic masses are used in place of the symbols\n",
    "# when constructing the chemiscope respresentations of the atomic configurations.\n",
    "# Using the symbols will not work because ase is written by chemists and not \n",
    "# biologists.  For a chemist HG1 is mercury as opposed to the first hydrogen\n",
    "# on a guanine residue.  \n",
    "for frame in traj:\n",
    "    frame.numbers = np.array(\n",
    "        [\n",
    "            np.argmin(np.subtract(atomic_masses, float(am)) ** 2)\n",
    "            for am in frame.arrays[\"occupancy\"]\n",
    "        ]\n",
    "    )\n",
    "    \n",
    "# This constructs the dicitionary of properties for chemiscope\n",
    "properties = {\n",
    "    \"mds1\": {\n",
    "        \"target\": \"structure\",\n",
    "        \"values\": projection[:,0],\n",
    "        \"description\": \"First mds component\",\n",
    "    },\n",
    "    \"mds2\": {\n",
    "        \"target\": \"structure\",\n",
    "        \"values\": projection[:,1],\n",
    "        \"description\": \"Second mds component\",\n",
    "    },\n",
    "    \"alpha\": {\n",
    "        \"target\": \"structure\",\n",
    "        \"values\": structure[:,0],\n",
    "        \"description\": \"Alpha helical content\",\n",
    "    },\n",
    "    \"antibeta\": {\n",
    "        \"target\": \"structure\",\n",
    "        \"values\": structure[:,1],\n",
    "        \"description\": \"Anti parallel beta sheet content\",\n",
    "    },\n",
    "    \"parabeta\": {\n",
    "        \"target\": \"structure\",\n",
    "        \"values\": structure[:,2],\n",
    "        \"description\": \"Parallel beta sheet content\",\n",
    "    },\n",
    "}\n",
    "\n",
    "# This generates our chemiscope output\n",
    "write_input(\"mds_chemiscope.json.gz\", frames=traj[1:], properties=properties )"
   ]
  },
  {
   "cell_type": "markdown",
   "id": "structural-moscow",
   "metadata": {},
   "source": [
    "## Sketch-map\n",
    "\n",
    "The input to do the sketch-map calculation with PLUMED is as follows"
   ]
  },
  {
   "cell_type": "code",
   "execution_count": 13,
   "id": "aquatic-graduate",
   "metadata": {},
   "outputs": [],
   "source": [
    "psmap = '''MOLINFO STRUCTURE=../../data/bhp.pdb MOLTYPE=protein\n",
    "           cc: COLLECT_FRAMES ATOMS=@nonhydrogens\n",
    "           r2-phi: TORSION ATOMS=@phi-2\n",
    "           r2-psi: TORSION ATOMS=@psi-2\n",
    "           r3-phi: TORSION ATOMS=@phi-3\n",
    "           r3-psi: TORSION ATOMS=@psi-3\n",
    "           r4-phi: TORSION ATOMS=@phi-4\n",
    "           r4-psi: TORSION ATOMS=@psi-4\n",
    "           r5-phi: TORSION ATOMS=@phi-5\n",
    "           r5-psi: TORSION ATOMS=@psi-5\n",
    "           r6-phi: TORSION ATOMS=@phi-6\n",
    "           r6-psi: TORSION ATOMS=@psi-6\n",
    "           r7-phi: TORSION ATOMS=@phi-7\n",
    "           r7-psi: TORSION ATOMS=@psi-7\n",
    "           r8-phi: TORSION ATOMS=@phi-8\n",
    "           r8-psi: TORSION ATOMS=@psi-8\n",
    "           r9-phi: TORSION ATOMS=@phi-9\n",
    "           r9-psi: TORSION ATOMS=@psi-9\n",
    "           r10-phi: TORSION ATOMS=@phi-10\n",
    "           r10-psi: TORSION ATOMS=@psi-10\n",
    "           r11-phi: TORSION ATOMS=@phi-11\n",
    "           r11-psi: TORSION ATOMS=@psi-11\n",
    "           r12-phi: TORSION ATOMS=@phi-12\n",
    "           r12-psi: TORSION ATOMS=@psi-12\n",
    "           r13-phi: TORSION ATOMS=@phi-13\n",
    "           r13-psi: TORSION ATOMS=@psi-13\n",
    "           r14-phi: TORSION ATOMS=@phi-14\n",
    "           r14-psi: TORSION ATOMS=@psi-14\n",
    "           r15-phi: TORSION ATOMS=@phi-15\n",
    "           r15-psi: TORSION ATOMS=@psi-15\n",
    "           r16-phi: TORSION ATOMS=@phi-16\n",
    "           r16-psi: TORSION ATOMS=@psi-16\n",
    "           angles: COLLECT_FRAMES ARG=r2-phi,r2-psi,r3-phi,r3-psi,r4-phi,r4-psi,r5-phi,r5-psi,r6-phi,r6-psi,r7-phi,r7-psi,r8-phi,r8-psi,r9-phi,r9-psi,r10-phi,r10-psi,r11-phi,r11-psi,r12-phi,r12-psi,r13-phi,r13-psi,r14-phi,r14-psi,r15-phi,r15-psi,r16-phi,r16-psi\n",
    "           distmat: EUCLIDEAN_DISSIMILARITIES USE_OUTPUT_DATA_FROM=angles METRIC=EUCLIDEAN\n",
    "           fps: LANDMARK_SELECT_FPS USE_OUTPUT_DATA_FROM=distmat NLANDMARKS=500\n",
    "           smap: SKETCH_MAP MATRIX=fps NLOW_DIM=2 HIGH_DIM_FUNCTION={SMAP R_0=6 A=8 B=2} LOW_DIM_FUNCTION={SMAP R_0=6 A=2 B=2} CGTOL=1E-3 CGRID_SIZE=20 FGRID_SIZE=200 ANNEAL_STEPS=0\n",
    "           osample: PROJECT_ALL_ANALYSIS_DATA USE_OUTPUT_DATA_FROM=distmat PROJECTION=smap\n",
    "           OUTPUT_ANALYSIS_DATA_TO_COLVAR USE_OUTPUT_DATA_FROM=osample ARG=osample.* FILE=smap_data\n",
    "           alpha: ALPHARMSD RESIDUES=all\n",
    "           abeta: ANTIBETARMSD RESIDUES=all STRANDS_CUTOFF=1.0\n",
    "           pbeta: PARABETARMSD RESIDUES=all STRANDS_CUTOFF=1.0\n",
    "           cc2: COLLECT_FRAMES ARG=alpha,abeta,pbeta\n",
    "           OUTPUT_ANALYSIS_DATA_TO_COLVAR USE_OUTPUT_DATA_FROM=cc2 ARG=cc2.* FILE=secondary_structure_data\n",
    "'''"
   ]
  },
  {
   "cell_type": "markdown",
   "id": "downtown-nevada",
   "metadata": {},
   "source": [
    "We now run the calculation with PLUMED."
   ]
  },
  {
   "cell_type": "code",
   "execution_count": 14,
   "id": "super-verse",
   "metadata": {},
   "outputs": [],
   "source": [
    "!mkdir ../Dimensionality_reduction_exercises/Exercise_4\n",
    "# Output the file above to the input\n",
    "f = open(\"../Dimensionality_reduction_exercises/Exercise_4/plumed.dat\", \"w\")\n",
    "f.write( psmap )\n",
    "f.close()\n",
    "# Run PLUMED\n",
    "!cd ../Dimensionality_reduction_exercises/Exercise_4 && plumed driver --mf_pdb ../../data/traj.pdb > /dev/null"
   ]
  },
  {
   "cell_type": "markdown",
   "id": "incredible-psychology",
   "metadata": {},
   "source": [
    "Quick plot to check PLUMED has run correctly"
   ]
  },
  {
   "cell_type": "code",
   "execution_count": 15,
   "id": "impressed-cricket",
   "metadata": {},
   "outputs": [
    {
     "data": {
      "image/png": "[encoded data removed]",
      "text/plain": [
       "<Figure size 432x288 with 1 Axes>"
      ]
     },
     "metadata": {
      "needs_background": "light"
     },
     "output_type": "display_data"
    }
   ],
   "source": [
    "projection = np.loadtxt(\"../Dimensionality_reduction_exercises/Exercise_4/smap_data\")\n",
    "plt.plot( projection[:,0], projection[:,1], 'ko')\n",
    "plt.xlabel(\"sketch-map coordinate 1\")\n",
    "plt.ylabel(\"sketch-map coordinate 2\")\n",
    "plt.show()"
   ]
  },
  {
   "cell_type": "markdown",
   "id": "reverse-juvenile",
   "metadata": {},
   "source": [
    "And generate the chemiscope"
   ]
  },
  {
   "cell_type": "code",
   "execution_count": 16,
   "id": "written-sending",
   "metadata": {},
   "outputs": [],
   "source": [
    "# Read in the trajectory using ase\n",
    "traj = ase.io.read('../data/traj.pdb',':')\n",
    "# Read in the projection \n",
    "projection = np.loadtxt(\"../Dimensionality_reduction_exercises/Exercise_4/smap_data\")\n",
    "# Read in secondary structure data\n",
    "structure = np.loadtxt(\"../Dimensionality_reduction_exercises/Exercise_4/secondary_structure_data\")\n",
    "\n",
    "# This ensures that the atomic masses are used in place of the symbols\n",
    "# when constructing the chemiscope respresentations of the atomic configurations.\n",
    "# Using the symbols will not work because ase is written by chemists and not \n",
    "# biologists.  For a chemist HG1 is mercury as opposed to the first hydrogen\n",
    "# on a guanine residue.  \n",
    "for frame in traj:\n",
    "    frame.numbers = np.array(\n",
    "        [\n",
    "            np.argmin(np.subtract(atomic_masses, float(am)) ** 2)\n",
    "            for am in frame.arrays[\"occupancy\"]\n",
    "        ]\n",
    "    )\n",
    "    \n",
    "# This constructs the dicitionary of properties for chemiscope\n",
    "properties = {\n",
    "    \"smap1\": {\n",
    "        \"target\": \"structure\",\n",
    "        \"values\": projection[:,0],\n",
    "        \"description\": \"First sketch-map component\",\n",
    "    },\n",
    "    \"smap2\": {\n",
    "        \"target\": \"structure\",\n",
    "        \"values\": projection[:,1],\n",
    "        \"description\": \"Second sketch-map component\",\n",
    "    },\n",
    "    \"alpha\": {\n",
    "        \"target\": \"structure\",\n",
    "        \"values\": structure[:,0],\n",
    "        \"description\": \"Alpha helical content\",\n",
    "    },\n",
    "    \"antibeta\": {\n",
    "        \"target\": \"structure\",\n",
    "        \"values\": structure[:,1],\n",
    "        \"description\": \"Anti parallel beta sheet content\",\n",
    "    },\n",
    "    \"parabeta\": {\n",
    "        \"target\": \"structure\",\n",
    "        \"values\": structure[:,2],\n",
    "        \"description\": \"Parallel beta sheet content\",\n",
    "    },\n",
    "}\n",
    "\n",
    "# This generates our chemiscope output\n",
    "write_input(\"smap_chemiscope.json.gz\", frames=traj[1:], properties=properties )"
   ]
  },
  {
   "cell_type": "code",
   "execution_count": null,
   "id": "informational-cable",
   "metadata": {},
   "outputs": [],
   "source": []
  }
 ],
 "metadata": {
  "kernelspec": {
   "display_name": "Python 3",
   "language": "python",
   "name": "python3"
  },
  "language_info": {
   "codemirror_mode": {
    "name": "ipython",
    "version": 3
   },
   "file_extension": ".py",
   "mimetype": "text/x-python",
   "name": "python",
   "nbconvert_exporter": "python",
   "pygments_lexer": "ipython3",
   "version": "3.7.10"
  }
 },
 "nbformat": 4,
 "nbformat_minor": 5
}
